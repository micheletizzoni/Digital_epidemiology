{
 "cells": [
  {
   "cell_type": "markdown",
   "metadata": {},
   "source": [
    "# Digital epidemiology\n",
    "### University of Trento\n",
    "### AA 2023/2024\n",
    "\n",
    "Author: Michele Tizzoni\n",
    "\n",
    "---\n",
    "## Notebook 2\n",
    "### Basics of network analysis\n",
    "\n",
    "---\n",
    "\n",
    "We will use the Python library [NetworkX](https://networkx.github.io/index.html). It is well documented and several [examples](https://networkx.github.io/documentation/networkx-2.0/auto_examples/index.html) are available.\n",
    "\n",
    "It is not the only Python library available for network analysis. Another very good one is [graph-tool](https://graph-tool.skewed.de/).\n",
    "Also the [SNAP library](http://snap.stanford.edu/data/index.html) provides an excellent tool to analyze very large networks.\n"
   ]
  },
  {
   "cell_type": "markdown",
   "metadata": {
    "tags": []
   },
   "source": [
    "## NetworkX preliminaries"
   ]
  },
  {
   "cell_type": "code",
   "execution_count": 1,
   "metadata": {},
   "outputs": [],
   "source": [
    "import networkx as nx\n",
    "\n",
    "from operator import itemgetter\n",
    "\n",
    "import math\n",
    "import numpy as np"
   ]
  },
  {
   "cell_type": "markdown",
   "metadata": {},
   "source": [
    "We import the plotting library seaborn which integrates very well with matplotlib.\n",
    "More documentation is available here: https://seaborn.pydata.org/"
   ]
  },
  {
   "cell_type": "code",
   "execution_count": 2,
   "metadata": {},
   "outputs": [],
   "source": [
    "import seaborn as sns"
   ]
  },
  {
   "cell_type": "code",
   "execution_count": 3,
   "metadata": {},
   "outputs": [],
   "source": [
    "import matplotlib.pyplot as plt"
   ]
  },
  {
   "cell_type": "code",
   "execution_count": 4,
   "metadata": {},
   "outputs": [],
   "source": [
    "%matplotlib inline"
   ]
  },
  {
   "cell_type": "markdown",
   "metadata": {},
   "source": [
    "---\n",
    "Generate an empty UNDIRECTED graph with NetworkX"
   ]
  },
  {
   "cell_type": "code",
   "execution_count": 5,
   "metadata": {},
   "outputs": [],
   "source": [
    "G=nx.Graph()"
   ]
  },
  {
   "cell_type": "markdown",
   "metadata": {},
   "source": [
    "Add nodes from a list of names"
   ]
  },
  {
   "cell_type": "code",
   "execution_count": 6,
   "metadata": {},
   "outputs": [],
   "source": [
    "G.add_nodes_from(['Luca','Andrea','Sara','Carlo','Veronica'])"
   ]
  },
  {
   "cell_type": "code",
   "execution_count": 7,
   "metadata": {},
   "outputs": [
    {
     "data": {
      "text/plain": [
       "NodeView(('Luca', 'Andrea', 'Sara', 'Carlo', 'Veronica'))"
      ]
     },
     "execution_count": 7,
     "metadata": {},
     "output_type": "execute_result"
    }
   ],
   "source": [
    "G.nodes()"
   ]
  },
  {
   "cell_type": "markdown",
   "metadata": {},
   "source": [
    "Add another node"
   ]
  },
  {
   "cell_type": "code",
   "execution_count": 8,
   "metadata": {},
   "outputs": [
    {
     "name": "stdout",
     "output_type": "stream",
     "text": [
      "The nodes of G are:  ['Luca', 'Andrea', 'Sara', 'Carlo', 'Veronica', 'Giovanni']\n"
     ]
    }
   ],
   "source": [
    "G.add_node('Giovanni')\n",
    "\n",
    "print(\"The nodes of G are: \", G.nodes())"
   ]
  },
  {
   "cell_type": "markdown",
   "metadata": {},
   "source": [
    "So far we have nodes in the networks but no edges.\n",
    "Let's add edges from a list of tuples."
   ]
  },
  {
   "cell_type": "code",
   "execution_count": 9,
   "metadata": {},
   "outputs": [],
   "source": [
    "G.add_edges_from([('Luca','Sara'),('Andrea','Luca'),\n",
    "('Carlo','Veronica'),('Sara','Veronica'),('Giovanni','Andrea')])"
   ]
  },
  {
   "cell_type": "markdown",
   "metadata": {},
   "source": [
    "We add another edge and 'Lucia' is a new node."
   ]
  },
  {
   "cell_type": "code",
   "execution_count": 10,
   "metadata": {},
   "outputs": [
    {
     "name": "stdout",
     "output_type": "stream",
     "text": [
      "The nodes of G are :  ['Luca', 'Andrea', 'Sara', 'Carlo', 'Veronica', 'Giovanni', 'Lucia']\n",
      "---\n",
      "The links of G are :  [('Luca', 'Sara'), ('Luca', 'Andrea'), ('Andrea', 'Giovanni'), ('Sara', 'Veronica'), ('Carlo', 'Veronica'), ('Veronica', 'Lucia')]\n"
     ]
    }
   ],
   "source": [
    "G.add_edge('Veronica','Lucia')\n",
    "\n",
    "print(\"The nodes of G are : \", G.nodes())\n",
    "print('---')\n",
    "print(\"The links of G are : \", G.edges())\n"
   ]
  },
  {
   "cell_type": "markdown",
   "metadata": {},
   "source": [
    "We want to add the property 'age' to each node. By default, each node is assigned to an empty dictionary to store metadata."
   ]
  },
  {
   "cell_type": "code",
   "execution_count": 11,
   "metadata": {},
   "outputs": [
    {
     "data": {
      "text/plain": [
       "{}"
      ]
     },
     "execution_count": 11,
     "metadata": {},
     "output_type": "execute_result"
    }
   ],
   "source": [
    "G.nodes['Lucia']"
   ]
  },
  {
   "cell_type": "code",
   "execution_count": 12,
   "metadata": {},
   "outputs": [
    {
     "name": "stdout",
     "output_type": "stream",
     "text": [
      "[('Luca', {'age': 24}), ('Andrea', {'age': 28}), ('Sara', {'age': 28}), ('Carlo', {'age': 28}), ('Veronica', {'age': 28}), ('Giovanni', {'age': 28}), ('Lucia', {'age': 24})]\n"
     ]
    }
   ],
   "source": [
    "for n in G.nodes():\n",
    "    if n[0]=='L':\n",
    "        G.nodes[n]['age']=24\n",
    "    else:\n",
    "        G.nodes[n]['age']=28\n",
    "\n",
    "#show the nodes with their age\n",
    "print(G.nodes(data=True))"
   ]
  },
  {
   "cell_type": "markdown",
   "metadata": {},
   "source": [
    "How to remove a node?"
   ]
  },
  {
   "cell_type": "code",
   "execution_count": 13,
   "metadata": {},
   "outputs": [
    {
     "name": "stdout",
     "output_type": "stream",
     "text": [
      "[('Andrea', {'age': 28}), ('Sara', {'age': 28}), ('Carlo', {'age': 28}), ('Veronica', {'age': 28}), ('Giovanni', {'age': 28}), ('Lucia', {'age': 24})]\n",
      "---\n",
      "[('Andrea', 'Giovanni'), ('Sara', 'Veronica'), ('Carlo', 'Veronica'), ('Veronica', 'Lucia')]\n"
     ]
    }
   ],
   "source": [
    "G.remove_node('Luca')\n",
    "print(G.nodes(data=True))\n",
    "print('---')\n",
    "print(G.edges())"
   ]
  },
  {
   "cell_type": "markdown",
   "metadata": {},
   "source": [
    "If we remove an edge, we do not remove the nodes! "
   ]
  },
  {
   "cell_type": "code",
   "execution_count": 14,
   "metadata": {},
   "outputs": [],
   "source": [
    "G.remove_edge('Giovanni', 'Andrea')"
   ]
  },
  {
   "cell_type": "code",
   "execution_count": 15,
   "metadata": {},
   "outputs": [
    {
     "name": "stdout",
     "output_type": "stream",
     "text": [
      "['Andrea', 'Sara', 'Carlo', 'Veronica', 'Giovanni', 'Lucia']\n"
     ]
    }
   ],
   "source": [
    "print(G.nodes())"
   ]
  },
  {
   "cell_type": "markdown",
   "metadata": {},
   "source": [
    "Degree is easily accessible"
   ]
  },
  {
   "cell_type": "code",
   "execution_count": 16,
   "metadata": {},
   "outputs": [
    {
     "data": {
      "text/plain": [
       "3"
      ]
     },
     "execution_count": 16,
     "metadata": {},
     "output_type": "execute_result"
    }
   ],
   "source": [
    "G.degree('Veronica')"
   ]
  },
  {
   "cell_type": "code",
   "execution_count": 17,
   "metadata": {},
   "outputs": [
    {
     "data": {
      "text/plain": [
       "DegreeView({'Andrea': 0, 'Sara': 1, 'Carlo': 1, 'Veronica': 3, 'Giovanni': 0, 'Lucia': 1})"
      ]
     },
     "execution_count": 17,
     "metadata": {},
     "output_type": "execute_result"
    }
   ],
   "source": [
    "G.degree()"
   ]
  },
  {
   "cell_type": "code",
   "execution_count": 18,
   "metadata": {},
   "outputs": [
    {
     "name": "stdout",
     "output_type": "stream",
     "text": [
      "('Andrea', 0)\n",
      "Andrea 0\n",
      "('Sara', 1)\n",
      "Sara 1\n",
      "('Carlo', 1)\n",
      "Carlo 1\n",
      "('Veronica', 3)\n",
      "Veronica 3\n",
      "('Giovanni', 0)\n",
      "Giovanni 0\n",
      "('Lucia', 1)\n",
      "Lucia 1\n"
     ]
    }
   ],
   "source": [
    "for i in G.degree():\n",
    "    print(i)\n",
    "    print(i[0], G.degree()[i[0]])"
   ]
  },
  {
   "cell_type": "markdown",
   "metadata": {},
   "source": [
    "### Analyze the citHepTh network with NetworkX\n",
    "---\n",
    "We analyze the citation dataset (citHepTh) available on the [Stanford Large Network Data Colletion](http://snap.stanford.edu/data/index.html). \n",
    "\n",
    "Keep in mind that the network is directed!"
   ]
  },
  {
   "cell_type": "code",
   "execution_count": 19,
   "metadata": {},
   "outputs": [],
   "source": [
    "filepath='./../datasets/'"
   ]
  },
  {
   "cell_type": "code",
   "execution_count": 20,
   "metadata": {},
   "outputs": [],
   "source": [
    "H=nx.DiGraph()"
   ]
  },
  {
   "cell_type": "code",
   "execution_count": 21,
   "metadata": {},
   "outputs": [],
   "source": [
    "fh=open(filepath+'cit-HepTh.txt','r')\n",
    "\n",
    "#reading all the file lines\n",
    "for line in fh.readlines():\n",
    "    #remove \"\\n\" characters (.strip()) and split the line at blank spaces (split.())\n",
    "    s=line.strip().split()\n",
    "    if s[0]!='#':\n",
    "        #the first lines are comments\n",
    "        origin=int(s[0])\n",
    "        dest=int(s[1])\n",
    "        \n",
    "        H.add_edge(origin,dest)\n",
    "    \n",
    "#chiudo il file\n",
    "fh.close()"
   ]
  },
  {
   "cell_type": "code",
   "execution_count": 22,
   "metadata": {},
   "outputs": [
    {
     "name": "stdout",
     "output_type": "stream",
     "text": [
      "The network has 27770 nodes\n"
     ]
    }
   ],
   "source": [
    "print(\"The network has\", len(H), \"nodes\")"
   ]
  },
  {
   "cell_type": "code",
   "execution_count": 23,
   "metadata": {},
   "outputs": [
    {
     "name": "stdout",
     "output_type": "stream",
     "text": [
      "The network has 352807 edges\n"
     ]
    }
   ],
   "source": [
    "print(\"The network has\", len(H.edges()), \"edges\")"
   ]
  },
  {
   "cell_type": "markdown",
   "metadata": {},
   "source": [
    "#### We want to count how many nodes have a given degree-in\n",
    "The Counter module is a dictionary subclass that allows quick item counting."
   ]
  },
  {
   "cell_type": "code",
   "execution_count": 24,
   "metadata": {
    "tags": []
   },
   "outputs": [],
   "source": [
    "indeg=dict(H.in_degree()).values()"
   ]
  },
  {
   "cell_type": "code",
   "execution_count": 25,
   "metadata": {
    "tags": []
   },
   "outputs": [
    {
     "name": "stdout",
     "output_type": "stream",
     "text": [
      "Counter({0: 4590, 1: 3787, 2: 2700, 3: 1992, 4: 1643, 5: 1327, 6: 1134, 7: 903, 8: 823, 9: 692, 10: 591, 11: 527, 12: 484, 13: 447, 14: 409, 15: 322, 16: 293, 18: 278, 17: 274, 19: 249, 20: 223, 22: 185, 21: 185, 24: 161, 23: 161, 28: 137, 25: 136, 26: 128, 30: 127, 27: 126, 29: 120, 32: 100, 33: 88, 31: 88, 35: 87, 37: 82, 38: 74, 41: 72, 43: 69, 39: 67, 34: 67, 36: 66, 45: 56, 42: 53, 40: 52, 46: 52, 44: 50, 49: 48, 47: 44, 56: 36, 50: 34, 54: 33, 51: 33, 52: 32, 53: 31, 59: 29, 57: 29, 48: 29, 55: 28, 62: 28, 58: 27, 64: 26, 60: 25, 61: 25, 68: 24, 79: 24, 63: 23, 65: 23, 67: 23, 70: 22, 71: 21, 66: 21, 69: 19, 75: 19, 76: 18, 73: 17, 94: 17, 77: 15, 82: 15, 89: 14, 85: 14, 87: 13, 74: 13, 81: 12, 84: 11, 95: 10, 88: 10, 96: 10, 72: 10, 97: 10, 106: 10, 92: 9, 80: 9, 102: 9, 101: 9, 113: 9, 99: 9, 118: 8, 114: 8, 107: 8, 105: 8, 78: 8, 83: 8, 109: 8, 91: 7, 86: 7, 100: 7, 90: 6, 148: 6, 104: 6, 124: 6, 142: 6, 144: 6, 136: 6, 133: 6, 172: 6, 116: 6, 108: 6, 93: 6, 115: 5, 126: 5, 110: 5, 129: 5, 111: 5, 151: 5, 159: 5, 121: 5, 125: 5, 119: 5, 205: 4, 139: 4, 150: 4, 155: 4, 103: 4, 223: 4, 141: 4, 98: 4, 154: 4, 123: 4, 131: 4, 157: 4, 149: 4, 301: 3, 186: 3, 145: 3, 158: 3, 229: 3, 138: 3, 232: 3, 122: 3, 201: 3, 137: 3, 112: 3, 204: 3, 134: 3, 196: 3, 164: 3, 190: 3, 146: 3, 153: 3, 117: 3, 192: 2, 327: 2, 329: 2, 194: 2, 127: 2, 328: 2, 167: 2, 171: 2, 282: 2, 257: 2, 191: 2, 174: 2, 228: 2, 176: 2, 325: 2, 788: 2, 380: 2, 169: 2, 120: 2, 178: 2, 156: 2, 230: 2, 173: 2, 152: 2, 208: 2, 233: 2, 177: 2, 188: 2, 197: 2, 222: 2, 220: 2, 162: 2, 143: 2, 193: 2, 179: 2, 242: 2, 140: 1, 421: 1, 1299: 1, 1006: 1, 1114: 1, 337: 1, 189: 1, 160: 1, 175: 1, 520: 1, 252: 1, 274: 1, 467: 1, 424: 1, 344: 1, 219: 1, 199: 1, 240: 1, 290: 1, 748: 1, 426: 1, 411: 1, 385: 1, 314: 1, 268: 1, 304: 1, 373: 1, 775: 1, 388: 1, 1155: 1, 273: 1, 185: 1, 651: 1, 406: 1, 494: 1, 132: 1, 333: 1, 383: 1, 217: 1, 225: 1, 438: 1, 701: 1, 1199: 1, 456: 1, 235: 1, 297: 1, 214: 1, 2414: 1, 1144: 1, 168: 1, 1032: 1, 135: 1, 211: 1, 1641: 1, 1775: 1, 248: 1, 315: 1, 295: 1, 475: 1, 308: 1, 130: 1, 807: 1, 213: 1, 251: 1, 187: 1, 244: 1, 427: 1, 184: 1, 181: 1, 265: 1, 347: 1, 247: 1, 264: 1, 165: 1, 180: 1, 183: 1, 224: 1, 340: 1, 341: 1, 198: 1, 147: 1, 331: 1, 182: 1, 212: 1})\n"
     ]
    }
   ],
   "source": [
    "from collections import Counter \n",
    "\n",
    "degin_distri=Counter(indeg)\n",
    "print(degin_distri)"
   ]
  },
  {
   "cell_type": "code",
   "execution_count": 26,
   "metadata": {},
   "outputs": [
    {
     "data": {
      "text/plain": [
       "(1.0, 10000.0, 1e-05, 1.0)"
      ]
     },
     "execution_count": 26,
     "metadata": {},
     "output_type": "execute_result"
    },
    {
     "data": {
      "image/png": "[encoded data removed]",
      "text/plain": [
       "<Figure size 1000x700 with 1 Axes>"
      ]
     },
     "metadata": {},
     "output_type": "display_data"
    }
   ],
   "source": [
    "x=[]\n",
    "y=[]\n",
    "\n",
    "for i in sorted(degin_distri):   \n",
    "    x.append(i)\n",
    "    y.append(degin_distri[i]/len(H))\n",
    "\n",
    "plt.figure(figsize=(10,7))    \n",
    "plt.plot(x,y)\n",
    "\n",
    "plt.xlabel('$k_{in}$', fontsize=18)\n",
    "plt.ylabel('$P(k_{in})$', fontsize=18)\n",
    "\n",
    "plt.xticks(fontsize=14)\n",
    "plt.yticks(fontsize=14)\n",
    "\n",
    "plt.yscale('log')\n",
    "plt.xscale('log')\n",
    "plt.axis([1,10000,0.00001,1.0])"
   ]
  },
  {
   "cell_type": "markdown",
   "metadata": {},
   "source": [
    "Let's plot the degree out distribution"
   ]
  },
  {
   "cell_type": "code",
   "execution_count": 27,
   "metadata": {},
   "outputs": [],
   "source": [
    "outdeg=dict(H.out_degree()).values()\n",
    "degout_distri=Counter(outdeg)"
   ]
  },
  {
   "cell_type": "code",
   "execution_count": 28,
   "metadata": {},
   "outputs": [
    {
     "data": {
      "text/plain": [
       "(1.0, 10000.0, 1e-05, 1.0)"
      ]
     },
     "execution_count": 28,
     "metadata": {},
     "output_type": "execute_result"
    },
    {
     "data": {
      "image/png": "[encoded data removed]",
      "text/plain": [
       "<Figure size 1000x700 with 1 Axes>"
      ]
     },
     "metadata": {},
     "output_type": "display_data"
    }
   ],
   "source": [
    "x=[]\n",
    "y=[]\n",
    "for i in sorted(degout_distri):   \n",
    "    x.append(i)\n",
    "    y.append(float(degout_distri[i])/len(H))\n",
    "\n",
    "plt.figure(figsize=(10,7))    \n",
    "plt.plot(np.array(x),np.array(y))\n",
    "\n",
    "plt.xlabel('$k_{out}$', fontsize=18)\n",
    "plt.ylabel('$P(k_{out})$', fontsize=18)\n",
    "\n",
    "plt.xticks(fontsize=14)\n",
    "plt.yticks(fontsize=14)\n",
    "\n",
    "plt.yscale('log')\n",
    "plt.xscale('log')\n",
    "plt.axis([1,10000,0.00001,1.0])"
   ]
  },
  {
   "cell_type": "markdown",
   "metadata": {},
   "source": [
    "#### Export to gml (be careful this is a large network!)"
   ]
  },
  {
   "cell_type": "markdown",
   "metadata": {},
   "source": [
    "The file in gml format can be visualized using the software tool Gephi (http://gephi.org)."
   ]
  },
  {
   "cell_type": "code",
   "execution_count": null,
   "metadata": {},
   "outputs": [],
   "source": [
    "#nx.write_gml(H,'./../network_data/citHepTh.gml')"
   ]
  },
  {
   "cell_type": "markdown",
   "metadata": {},
   "source": [
    "## Visualizing a network with NetworkX"
   ]
  },
  {
   "cell_type": "markdown",
   "metadata": {},
   "source": [
    "NetworkX combined with matplotlib can be used to visualize complex networks. \n",
    "\n",
    "It provides a good range of functionalities to obtain some basic and more refined visualization. More details are available in the [documentation](https://networkx.github.io/documentation/stable/reference/drawing.html)."
   ]
  },
  {
   "cell_type": "markdown",
   "metadata": {},
   "source": [
    "Notice, as stated in the documentation\n",
    ">NetworkX provides basic functionality for visualizing graphs, but its main goal is to enable graph analysis rather than perform graph visualization. \n",
    ">In the future, graph visualization functionality may be removed from NetworkX or only available as an add-on package.\n"
   ]
  },
  {
   "cell_type": "markdown",
   "metadata": {},
   "source": [
    "We generate a random Erdos-Rényi network and visualize it."
   ]
  },
  {
   "cell_type": "code",
   "execution_count": null,
   "metadata": {},
   "outputs": [],
   "source": [
    "N=100\n",
    "prob=0.08"
   ]
  },
  {
   "cell_type": "code",
   "execution_count": null,
   "metadata": {},
   "outputs": [],
   "source": [
    "ER=nx.erdos_renyi_graph(N, prob)"
   ]
  },
  {
   "cell_type": "code",
   "execution_count": null,
   "metadata": {},
   "outputs": [],
   "source": [
    "plt.figure(figsize=(10,10))\n",
    "nx.draw_networkx(ER)\n",
    "plt.axis('off')"
   ]
  },
  {
   "cell_type": "code",
   "execution_count": null,
   "metadata": {},
   "outputs": [],
   "source": [
    "plt.figure(figsize=(10,10))\n",
    "nx.draw_circular(ER)"
   ]
  },
  {
   "cell_type": "code",
   "execution_count": null,
   "metadata": {},
   "outputs": [],
   "source": [
    "plt.figure(figsize=(10,10))\n",
    "nx.draw_random(ER)"
   ]
  },
  {
   "cell_type": "code",
   "execution_count": null,
   "metadata": {},
   "outputs": [],
   "source": [
    "plt.figure(figsize=(10,10))\n",
    "nx.draw_spring(ER)"
   ]
  },
  {
   "cell_type": "code",
   "execution_count": null,
   "metadata": {
    "scrolled": true
   },
   "outputs": [],
   "source": [
    "pos=nx.spring_layout(ER)\n",
    "pos"
   ]
  },
  {
   "cell_type": "markdown",
   "metadata": {},
   "source": [
    "We can draw the network nodes only, and assign a specific location to each node."
   ]
  },
  {
   "cell_type": "code",
   "execution_count": null,
   "metadata": {},
   "outputs": [],
   "source": [
    "plt.figure(figsize=(8,6))\n",
    "nx.draw_networkx_nodes(ER, pos)\n",
    "plt.axis('off')"
   ]
  },
  {
   "cell_type": "code",
   "execution_count": null,
   "metadata": {},
   "outputs": [],
   "source": [
    "plt.figure(figsize=(10,7))\n",
    "\n",
    "s=nx.draw_networkx_nodes(ER,\n",
    "            pos,\n",
    "            node_size=100.0,\n",
    "            node_color=list(dict(nx.degree(ER)).values()),\n",
    "            alpha=1,\n",
    "            cmap=plt.cm.BuGn\n",
    "            )\n",
    "\n",
    "nx.draw_networkx_edges(ER, pos, alpha=0.5)\n",
    "\n",
    "#show the colorbar on the right side\n",
    "cbar=plt.colorbar(s)\n",
    "cbar.ax.set_ylabel('Degree', size=22)\n",
    "\n",
    "plt.axis('off')\n",
    "plt.show()"
   ]
  },
  {
   "cell_type": "markdown",
   "metadata": {},
   "source": [
    "## Visualizing a spatial network with NetworkX"
   ]
  },
  {
   "cell_type": "markdown",
   "metadata": {},
   "source": [
    "We analyze the US airport network of year 2010. \n",
    "The network is available from the [network repository of Tore Opshal](https://toreopsahl.com/datasets/#usairports).\n",
    "\n",
    "Weights represent the total number of passengers who traveled on that connection in a year.\n",
    "\n",
    "Airport coordinates have been added by myself.\n"
   ]
  },
  {
   "cell_type": "code",
   "execution_count": null,
   "metadata": {},
   "outputs": [],
   "source": [
    "airport_path='./../datasets/USairport_2010.txt'"
   ]
  },
  {
   "cell_type": "code",
   "execution_count": null,
   "metadata": {},
   "outputs": [],
   "source": [
    "meta_path='./../datasets/USairport_2010_codes.txt'"
   ]
  },
  {
   "cell_type": "code",
   "execution_count": null,
   "metadata": {},
   "outputs": [],
   "source": [
    "G=nx.Graph()\n",
    "fh=open(airport_path,'r')\n",
    "for line in fh.readlines():\n",
    "    s=line.strip().split()\n",
    "    G.add_edge(int(s[0]),int(s[1]))\n",
    "fh.close()    "
   ]
  },
  {
   "cell_type": "code",
   "execution_count": null,
   "metadata": {},
   "outputs": [],
   "source": [
    "len(G)"
   ]
  },
  {
   "cell_type": "markdown",
   "metadata": {},
   "source": [
    "Is the network fully connected?"
   ]
  },
  {
   "cell_type": "code",
   "execution_count": null,
   "metadata": {},
   "outputs": [],
   "source": [
    "nx.number_connected_components(G)"
   ]
  },
  {
   "cell_type": "markdown",
   "metadata": {},
   "source": [
    "The first connected component in the list is always the largest"
   ]
  },
  {
   "cell_type": "code",
   "execution_count": null,
   "metadata": {},
   "outputs": [],
   "source": [
    "c=list(nx.connected_components(G))\n",
    "c[1]"
   ]
  },
  {
   "cell_type": "markdown",
   "metadata": {},
   "source": [
    "We define three dictionaries associated to the network to store additional node's features: IATA code, aiport name, geographic coordinates."
   ]
  },
  {
   "cell_type": "code",
   "execution_count": null,
   "metadata": {},
   "outputs": [],
   "source": [
    "G.code={}\n",
    "G.name={}\n",
    "G.pos={}"
   ]
  },
  {
   "cell_type": "markdown",
   "metadata": {},
   "source": [
    "We extract nodes features from a file"
   ]
  },
  {
   "cell_type": "code",
   "execution_count": null,
   "metadata": {},
   "outputs": [],
   "source": [
    "finfo=open(meta_path,'r')\n",
    "for line in finfo.readlines():\n",
    "    s=line.strip().split()\n",
    "    node=int(s[0])\n",
    "    G.code[node]=s[1]\n",
    "    G.name[node]=s[2]\n",
    "    G.pos[node]=(float(s[4]), float(s[3]))\n",
    "finfo.close() "
   ]
  },
  {
   "cell_type": "markdown",
   "metadata": {},
   "source": [
    "Draw the network"
   ]
  },
  {
   "cell_type": "code",
   "execution_count": null,
   "metadata": {},
   "outputs": [],
   "source": [
    "fig=plt.figure(figsize=(15,8))\n",
    "\n",
    "nx.draw_networkx_nodes(G,\n",
    "            pos=G.pos,\n",
    "            node_size=20\n",
    "            )\n",
    "\n",
    "#nx.draw_networkx_edges(G,pos=G.pos)\n",
    "\n",
    "nx.draw_networkx_labels(G, pos=G.pos, labels=G.code)\n",
    "\n",
    "plt.axis('off')"
   ]
  },
  {
   "cell_type": "markdown",
   "metadata": {},
   "source": [
    "We would like to draw the edges but there are too many of them."
   ]
  },
  {
   "cell_type": "code",
   "execution_count": null,
   "metadata": {},
   "outputs": [],
   "source": [
    "len(G.edges())"
   ]
  },
  {
   "cell_type": "markdown",
   "metadata": {},
   "source": [
    "We select only the strongest connections as a subgraph of G by setting a threshold on the annual passengers volume."
   ]
  },
  {
   "cell_type": "code",
   "execution_count": null,
   "metadata": {},
   "outputs": [],
   "source": [
    "weight_threshold=300000"
   ]
  },
  {
   "cell_type": "code",
   "execution_count": null,
   "metadata": {},
   "outputs": [],
   "source": [
    "H=nx.Graph()\n",
    "\n",
    "H.pos={}\n",
    "H.code={}\n",
    "H.name={}\n",
    "\n",
    "fh=open(airport_path,'r')\n",
    "for line in fh.readlines():\n",
    "    s=line.strip().split()\n",
    "    node1=int(s[0])\n",
    "    node2=int(s[1])\n",
    "    \n",
    "    weight=int(s[2])\n",
    "    \n",
    "    if weight>weight_threshold:\n",
    "        H.add_edge(node1,node2)\n",
    "        \n",
    "        H.pos[node1]=G.pos[node1]\n",
    "        H.pos[node2]=G.pos[node2]\n",
    "        \n",
    "        H.code[node1]=G.code[node1]\n",
    "        H.code[node2]=G.code[node2]\n",
    "        \n",
    "        H.name[node1]=G.name[node1]\n",
    "        H.name[node2]=G.name[node2]\n",
    "        \n",
    "fh.close()"
   ]
  },
  {
   "cell_type": "code",
   "execution_count": null,
   "metadata": {},
   "outputs": [],
   "source": [
    "len(H.edges())"
   ]
  },
  {
   "cell_type": "markdown",
   "metadata": {},
   "source": [
    "We draw the network and color code the nodes by their degree."
   ]
  },
  {
   "cell_type": "code",
   "execution_count": null,
   "metadata": {},
   "outputs": [],
   "source": [
    "fig=plt.figure(figsize=(15,8))\n",
    "\n",
    "s=nx.draw_networkx_nodes(G,\n",
    "            pos=G.pos,\n",
    "            node_color=[math.log(G.degree(v), 10) for v in G],\n",
    "            node_size=30,\n",
    "            cmap=plt.cm.YlOrRd\n",
    "            )\n",
    "\n",
    "nx.draw_networkx_edges(H,\n",
    "            pos=G.pos,\n",
    "            alpha=0.5\n",
    "            )\n",
    "\n",
    "nx.draw_networkx_labels(H,\n",
    "            pos=H.pos,\n",
    "            labels=H.code,\n",
    "            )\n",
    "\n",
    "cbar=plt.colorbar(s)\n",
    "cbar.ax.set_ylabel('$log(k)$', size=22)\n",
    "\n",
    "plt.axis('off')"
   ]
  },
  {
   "cell_type": "markdown",
   "metadata": {},
   "source": [
    "What is the node with the largest degree?"
   ]
  },
  {
   "cell_type": "code",
   "execution_count": null,
   "metadata": {},
   "outputs": [],
   "source": [
    "max(dict(G.degree()).items(), key=itemgetter(1))"
   ]
  },
  {
   "cell_type": "code",
   "execution_count": null,
   "metadata": {},
   "outputs": [],
   "source": [
    "G.name[389]"
   ]
  }
 ],
 "metadata": {
  "kernelspec": {
   "display_name": "Python 3 (ipykernel)",
   "language": "python",
   "name": "python3"
  },
  "language_info": {
   "codemirror_mode": {
    "name": "ipython",
    "version": 3
   },
   "file_extension": ".py",
   "mimetype": "text/x-python",
   "name": "python",
   "nbconvert_exporter": "python",
   "pygments_lexer": "ipython3",
   "version": "3.11.3"
  },
  "toc": {
   "base_numbering": 1,
   "nav_menu": {},
   "number_sections": true,
   "sideBar": true,
   "skip_h1_title": false,
   "title_cell": "Table of Contents",
   "title_sidebar": "Contents",
   "toc_cell": false,
   "toc_position": {},
   "toc_section_display": true,
   "toc_window_display": false
  }
 },
 "nbformat": 4,
 "nbformat_minor": 4
}
