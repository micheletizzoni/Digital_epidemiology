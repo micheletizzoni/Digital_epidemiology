{
 "cells": [
  {
   "cell_type": "markdown",
   "metadata": {},
   "source": [
    "# Digital epidemiology\n",
    "### University of Trento\n",
    "### AA 2023/2024\n",
    "\n",
    "Author: Michele Tizzoni\n",
    "\n",
    "---\n",
    "## Notebook 1\n",
    "### Epidemic modeling, deterministic and stochastic models"
   ]
  },
  {
   "cell_type": "code",
   "execution_count": null,
   "metadata": {
    "ExecuteTime": {
     "end_time": "2022-01-06T16:30:02.547844Z",
     "start_time": "2022-01-06T16:30:02.545248Z"
    }
   },
   "outputs": [],
   "source": [
    "import networkx as nx\n",
    "import numpy as np\n",
    "\n",
    "from operator import itemgetter\n",
    "from collections import defaultdict\n",
    "\n",
    "import matplotlib.ticker as ticker\n",
    "import matplotlib.pyplot as plt\n",
    "\n",
    "import seaborn as sns"
   ]
  },
  {
   "cell_type": "code",
   "execution_count": null,
   "metadata": {
    "ExecuteTime": {
     "end_time": "2022-01-06T16:26:27.964702Z",
     "start_time": "2022-01-06T16:26:27.956468Z"
    }
   },
   "outputs": [],
   "source": [
    "%matplotlib inline"
   ]
  },
  {
   "cell_type": "markdown",
   "metadata": {},
   "source": [
    "## The deterministic SIR model"
   ]
  },
  {
   "cell_type": "markdown",
   "metadata": {},
   "source": [
    "As a first step, we solve the differential equations of an SIR model with the Euler method. "
   ]
  },
  {
   "cell_type": "markdown",
   "metadata": {},
   "source": [
    "We set the parameters of the model"
   ]
  },
  {
   "cell_type": "code",
   "execution_count": null,
   "metadata": {
    "ExecuteTime": {
     "end_time": "2022-01-06T16:26:27.975439Z",
     "start_time": "2022-01-06T16:26:27.968338Z"
    }
   },
   "outputs": [],
   "source": [
    "mu = 0.2 #recovery rate\n",
    "\n",
    "R0 = 3.0 #basic reproductive number\n",
    "\n",
    "beta1 = R0 * mu #transmissibility"
   ]
  },
  {
   "cell_type": "code",
   "execution_count": null,
   "metadata": {
    "ExecuteTime": {
     "end_time": "2022-01-06T16:26:28.146439Z",
     "start_time": "2022-01-06T16:26:28.141385Z"
    }
   },
   "outputs": [],
   "source": [
    "beta1"
   ]
  },
  {
   "cell_type": "code",
   "execution_count": null,
   "metadata": {},
   "outputs": [],
   "source": [
    "print(\"The average infectious period is \", 1.0 / mu, \" days\")"
   ]
  },
  {
   "cell_type": "markdown",
   "metadata": {},
   "source": [
    "The time step of integration is 1 day."
   ]
  },
  {
   "cell_type": "code",
   "execution_count": null,
   "metadata": {
    "ExecuteTime": {
     "end_time": "2022-01-06T16:26:32.209517Z",
     "start_time": "2022-01-06T16:26:32.204687Z"
    }
   },
   "outputs": [],
   "source": [
    "N = 1000000\n",
    "I = 10\n",
    "S = N - I\n",
    "R = 0\n",
    "\n",
    "St = []\n",
    "It = []\n",
    "Rt = []\n",
    "\n",
    "deltaSt = []\n",
    "deltaIt = []\n",
    "\n",
    "St.append(S)\n",
    "It.append(I)\n",
    "Rt.append(R)\n",
    "\n",
    "while I>0.01:\n",
    "\n",
    "    deltaSI = beta1 * float(I) * S / N\n",
    "\n",
    "    deltaIR = mu * I\n",
    "\n",
    "    S = S - deltaSI\n",
    "    I = I + deltaSI - deltaIR\n",
    "    R = R + deltaIR\n",
    "\n",
    "    deltaSt.append(deltaSI)\n",
    "    deltaIt.append(deltaIR)\n",
    "    St.append(S)\n",
    "    It.append(I)\n",
    "    Rt.append(R)"
   ]
  },
  {
   "cell_type": "code",
   "execution_count": null,
   "metadata": {
    "ExecuteTime": {
     "end_time": "2022-01-06T16:26:32.579157Z",
     "start_time": "2022-01-06T16:26:32.576604Z"
    }
   },
   "outputs": [],
   "source": [
    "print(\"The final attack rate is \", Rt[-1] / N)"
   ]
  },
  {
   "cell_type": "markdown",
   "metadata": {},
   "source": [
    "We plot the time varying curves of S, I and R"
   ]
  },
  {
   "cell_type": "code",
   "execution_count": null,
   "metadata": {
    "ExecuteTime": {
     "end_time": "2022-01-06T16:26:33.115491Z",
     "start_time": "2022-01-06T16:26:32.956080Z"
    }
   },
   "outputs": [],
   "source": [
    "plt.figure(figsize=(8, 5))\n",
    "\n",
    "plt.plot(range(0, len(St)), np.array(St), label=\"S\", color=\"g\")\n",
    "plt.plot(range(0, len(It)), np.array(It), label=\"I\", color=\"r\")\n",
    "plt.plot(range(0, len(Rt)), np.array(Rt), label=\"R\", color=\"b\")\n",
    "\n",
    "# plt.yscale('log')\n",
    "# plt.xscale('log')\n",
    "plt.xlim([0, len(It)])\n",
    "\n",
    "plt.xticks(fontsize=20)\n",
    "plt.yticks(fontsize=20)\n",
    "plt.xlabel(\"time\", fontsize=22)\n",
    "plt.ylabel(\"individuals\", fontsize=22)\n",
    "\n",
    "plt.legend(loc=\"upper right\", fontsize=22)"
   ]
  },
  {
   "cell_type": "markdown",
   "metadata": {},
   "source": [
    "We can plot the incidence and the newly recovered"
   ]
  },
  {
   "cell_type": "code",
   "execution_count": null,
   "metadata": {},
   "outputs": [],
   "source": [
    "plt.figure(figsize=(8, 5))\n",
    "\n",
    "plt.plot(range(0, len(deltaSt)), np.array(deltaSt), label=\"incidence\", color=\"r\")\n",
    "plt.plot(range(0, len(deltaIt)), np.array(deltaIt), label=\"newly recovered\", color=\"b\")\n",
    "# plt.plot(range(0, len(Rt)),np.array(Rt), label='R', color='b')\n",
    "\n",
    "# plt.yscale('log')\n",
    "plt.xlim([0, len(deltaIt)])\n",
    "\n",
    "plt.xticks(fontsize=18)\n",
    "plt.yticks(fontsize=18)\n",
    "plt.xlabel(\"time\", fontsize=18)\n",
    "plt.ylabel(\"individuals\", fontsize=18)\n",
    "\n",
    "plt.legend(loc=\"upper right\", fontsize=18)"
   ]
  },
  {
   "cell_type": "markdown",
   "metadata": {},
   "source": [
    "## The stochastic SIR"
   ]
  },
  {
   "cell_type": "markdown",
   "metadata": {},
   "source": [
    "We simulate a discrete and stochastic SIR model by randomly extracting the transition elements at each time step.\n",
    "Since the simulations are stochastic, we need to run several realizations of the model and then extract their statistical averages."
   ]
  },
  {
   "cell_type": "markdown",
   "metadata": {},
   "source": [
    "We use the same model's parameters: $R_0=3.0$"
   ]
  },
  {
   "cell_type": "code",
   "execution_count": null,
   "metadata": {},
   "outputs": [],
   "source": [
    "mu = 0.2\n",
    "R0 = 3.0\n",
    "beta1 = R0 * mu"
   ]
  },
  {
   "cell_type": "code",
   "execution_count": null,
   "metadata": {},
   "outputs": [],
   "source": [
    "dict_I = defaultdict(list)  # here we store the number of I at each time step, for each run"
   ]
  },
  {
   "cell_type": "code",
   "execution_count": null,
   "metadata": {},
   "outputs": [],
   "source": [
    "final_R = []\n",
    "\n",
    "nrun = 1000\n",
    "\n",
    "Irun = []\n",
    "\n",
    "for r in range(0, nrun):\n",
    "\n",
    "    # for each run r, we set the initial conditions\n",
    "    N = 1000000\n",
    "    I = 10\n",
    "    S = N - I\n",
    "    R = 0\n",
    "\n",
    "    list_I = []\n",
    "    list_I.append(I)\n",
    "\n",
    "    t = 0\n",
    "    dict_I[t].append(I)\n",
    "\n",
    "    while I > 0:\n",
    "\n",
    "        p = beta1 * (float(I) / N)\n",
    "        deltaSI = np.random.binomial(S, p)\n",
    "\n",
    "        deltaIR = np.random.binomial(I, mu)\n",
    "\n",
    "        S = S - deltaSI\n",
    "        I = I + deltaSI - deltaIR\n",
    "        R = R + deltaIR\n",
    "\n",
    "        t += 1\n",
    "        list_I.append(I)\n",
    "\n",
    "        dict_I[t].append(I)\n",
    "\n",
    "    final_R.append(float(R) / N)\n",
    "    Irun.append(list_I)\n",
    "\n",
    "print(\"The average final attack rate is \", np.average(np.array(final_R)))"
   ]
  },
  {
   "cell_type": "markdown",
   "metadata": {},
   "source": [
    "# Distribution of the final size"
   ]
  },
  {
   "cell_type": "markdown",
   "metadata": {},
   "source": [
    "We plot a histogram of the distribution of the final attack rate"
   ]
  },
  {
   "cell_type": "code",
   "execution_count": null,
   "metadata": {},
   "outputs": [],
   "source": [
    "plt.figure(figsize=(8, 5))\n",
    "sns.histplot(final_R, bins=50)\n",
    "\n",
    "plt.xticks(fontsize=12, rotation=15)\n",
    "plt.yticks(fontsize=12)\n",
    "\n",
    "plt.xlabel(\"final attack rate\", fontsize=18)\n",
    "plt.ylabel(\"runs\", fontsize=18)"
   ]
  },
  {
   "cell_type": "code",
   "execution_count": null,
   "metadata": {},
   "outputs": [],
   "source": [
    "plt.figure(figsize=(8, 5))\n",
    "\n",
    "plt.xticks(fontsize=14)\n",
    "plt.yticks(fontsize=14)\n",
    "\n",
    "plt.xlabel(\"time\", fontsize=18)\n",
    "plt.ylabel(\"prevalence\", fontsize=18)\n",
    "\n",
    "for r in Irun:\n",
    "\n",
    "    sns.lineplot(r)"
   ]
  },
  {
   "cell_type": "markdown",
   "metadata": {},
   "source": [
    "Too many lines are messy... let's draw a boxplot"
   ]
  },
  {
   "cell_type": "code",
   "execution_count": null,
   "metadata": {},
   "outputs": [],
   "source": [
    "full_array = [np.array(dict_I[t]) for t in dict_I]\n",
    "\n",
    "plt.figure(figsize=(10, 7))\n",
    "\n",
    "plt.xlabel(\"time\", fontsize=18)\n",
    "plt.ylabel(\"prevalence\", fontsize=18)\n",
    "\n",
    "plt.xticks(fontsize=14)\n",
    "plt.yticks(fontsize=14)\n",
    "\n",
    "ax = sns.boxplot(data=full_array, color=\"skyblue\")\n",
    "\n",
    "ax.xaxis.set_major_locator(ticker.MultipleLocator(20))\n",
    "ax.xaxis.set_major_formatter(ticker.ScalarFormatter())\n",
    "\n",
    "plt.xlim([20, 60])\n",
    "# plt.show()"
   ]
  },
  {
   "cell_type": "markdown",
   "metadata": {},
   "source": [
    "Let's compare the result with the deterministic simulation by computing the average prevalence of the stochastic version.\n"
   ]
  },
  {
   "cell_type": "code",
   "execution_count": null,
   "metadata": {},
   "outputs": [],
   "source": [
    "full_average = [np.average(np.array(dict_I[t])) for t in dict_I]"
   ]
  },
  {
   "cell_type": "code",
   "execution_count": null,
   "metadata": {},
   "outputs": [],
   "source": [
    "plt.figure(figsize=(10, 7))\n",
    "\n",
    "plt.xlabel(\"Time\", fontsize=18)\n",
    "plt.ylabel(\"Prevalence\", fontsize=18)\n",
    "\n",
    "plt.xticks(fontsize=14)\n",
    "plt.yticks(fontsize=14)\n",
    "\n",
    "ax = sns.boxplot(data=full_array, color=\"skyblue\")\n",
    "\n",
    "plt.plot(range(0, len(It)), It, color=\"b\")\n",
    "plt.plot(range(0, len(full_average)), full_average, color=\"r\")\n",
    "\n",
    "ax.xaxis.set_major_locator(ticker.MultipleLocator(20))\n",
    "ax.xaxis.set_major_formatter(ticker.ScalarFormatter())\n",
    "\n",
    "plt.xlim([20,40])\n"
   ]
  },
  {
   "cell_type": "markdown",
   "metadata": {},
   "source": [
    "# Dependence on the initial conditions"
   ]
  },
  {
   "cell_type": "markdown",
   "metadata": {},
   "source": [
    "The results of the stochastic version of the model depend on the initial conditions. \n",
    "\n",
    "Let's change the initial number of infected individuals to 1, keeping the value of $R_0$ constant."
   ]
  },
  {
   "cell_type": "code",
   "execution_count": null,
   "metadata": {},
   "outputs": [],
   "source": [
    "mu = 0.2\n",
    "R0 = 3.0\n",
    "beta1 = R0 * mu"
   ]
  },
  {
   "cell_type": "code",
   "execution_count": null,
   "metadata": {},
   "outputs": [],
   "source": [
    "dict_I = defaultdict(list)  # here we store the number of I at each time step, for each run\n",
    "\n",
    "final_R = []\n",
    "\n",
    "nrun = 1000\n",
    "Irun = []\n",
    "for r in range(0, nrun):\n",
    "\n",
    "    # for each run r, we set the initial conditions\n",
    "    N = 1000000\n",
    "    I = 1\n",
    "    S = N - I\n",
    "    R = 0\n",
    "\n",
    "    list_I = []\n",
    "\n",
    "    t = 0\n",
    "    dict_I[t].append(I)\n",
    "    while I > 0:\n",
    "\n",
    "        p = beta1 * (float(I) / N)\n",
    "        deltaSI = np.random.binomial(S, p)\n",
    "\n",
    "        deltaIR = np.random.binomial(I, mu)\n",
    "\n",
    "        S = S - deltaSI\n",
    "        I = I + deltaSI - deltaIR\n",
    "        R = R + deltaIR\n",
    "\n",
    "        t += 1\n",
    "        list_I.append(I)\n",
    "\n",
    "        dict_I[t].append(I)\n",
    "\n",
    "    final_R.append(float(R) / N)\n",
    "    Irun.append(list_I)\n",
    "\n",
    "print(\"The average final attack rate is \", np.average(np.array(final_R)))"
   ]
  },
  {
   "cell_type": "markdown",
   "metadata": {},
   "source": [
    "**With only 1 infected as a seed, we see more fluctuations, as expected.**"
   ]
  },
  {
   "cell_type": "code",
   "execution_count": null,
   "metadata": {},
   "outputs": [],
   "source": [
    "plt.figure(figsize=(10, 7))\n",
    "plt.xlabel(\"time\", fontsize=18)\n",
    "plt.ylabel(\"prevalence\", fontsize=18)\n",
    "\n",
    "plt.xticks(fontsize=14)\n",
    "plt.yticks(fontsize=14)\n",
    "\n",
    "for r in Irun:\n",
    "\n",
    "    sns.plot(range(0, len(r)), r)"
   ]
  },
  {
   "cell_type": "markdown",
   "metadata": {},
   "source": [
    "## We have several runs without outbreak!  \n",
    "\n",
    "The initial seed individual recovers before infecting someone else.\n",
    "\n",
    "The chain of transmission breaks down."
   ]
  },
  {
   "cell_type": "code",
   "execution_count": null,
   "metadata": {},
   "outputs": [],
   "source": [
    "no_outbreak = []\n",
    "for r in final_R:\n",
    "    if r < 0.8:\n",
    "        no_outbreak.append(r * 1000000)\n",
    "print(no_outbreak)"
   ]
  },
  {
   "cell_type": "code",
   "execution_count": null,
   "metadata": {},
   "outputs": [],
   "source": [
    "b = plt.hist(no_outbreak, bins=30)\n",
    "plt.xscale(\"log\")"
   ]
  },
  {
   "cell_type": "code",
   "execution_count": null,
   "metadata": {},
   "outputs": [],
   "source": [
    "plt.figure(figsize=(10, 7))\n",
    "plt.hist(final_R, 20)\n",
    "plt.xlabel(\"final size\", fontsize=18)\n",
    "plt.ylabel(\"runs\", fontsize=18)\n",
    "plt.xticks(fontsize=14)\n",
    "plt.yticks(fontsize=14)"
   ]
  },
  {
   "cell_type": "code",
   "execution_count": null,
   "metadata": {},
   "outputs": [],
   "source": [
    "len(no_outbreak)"
   ]
  },
  {
   "cell_type": "markdown",
   "metadata": {},
   "source": [
    "---\n",
    "In a stochastic SIR model, the probability of an outbreak is equal to \n",
    "<center>\n",
    "$p_{outb}=1-(\\frac{1}{R_0})^{I_0}$\n",
    "</center>\n",
    "\n",
    "---"
   ]
  },
  {
   "cell_type": "code",
   "execution_count": null,
   "metadata": {},
   "outputs": [],
   "source": [
    "p_outbreak = 1 - 1 / R0"
   ]
  },
  {
   "cell_type": "code",
   "execution_count": null,
   "metadata": {},
   "outputs": [],
   "source": [
    "p_outbreak"
   ]
  },
  {
   "cell_type": "markdown",
   "metadata": {},
   "source": [
    "Of course, such fluctuations do not affect the deterministic model, where the outcome is fixed. "
   ]
  },
  {
   "cell_type": "code",
   "execution_count": null,
   "metadata": {},
   "outputs": [],
   "source": [
    "N = 10000\n",
    "I = 1\n",
    "S = N - I\n",
    "R = 0\n",
    "\n",
    "\n",
    "St = []\n",
    "It = []\n",
    "Rt = []\n",
    "\n",
    "St.append(S)\n",
    "It.append(I)\n",
    "Rt.append(R)\n",
    "\n",
    "while I > 0.5:\n",
    "    deltaSI = beta1 * (float(I) * float(S) / N)\n",
    "    deltaIR = mu * I\n",
    "\n",
    "    S = S - deltaSI\n",
    "    I = I + deltaSI - deltaIR\n",
    "    R = R + deltaIR\n",
    "\n",
    "    St.append(S)\n",
    "    It.append(I)\n",
    "    Rt.append(R)"
   ]
  },
  {
   "cell_type": "code",
   "execution_count": null,
   "metadata": {},
   "outputs": [],
   "source": [
    "print(\"The final attack rate is \", Rt[-1] / N)"
   ]
  },
  {
   "cell_type": "markdown",
   "metadata": {},
   "source": [
    "--- \n",
    "# Age-structured SEIR epidemic model"
   ]
  },
  {
   "cell_type": "markdown",
   "metadata": {},
   "source": [
    "Here, we develop an age-structured epidemic model where the population is divided into age classes."
   ]
  },
  {
   "cell_type": "code",
   "execution_count": null,
   "metadata": {},
   "outputs": [],
   "source": [
    "import pandas as pd\n",
    "\n",
    "import scipy.linalg as la"
   ]
  },
  {
   "cell_type": "markdown",
   "metadata": {},
   "source": [
    "# Contact matrix"
   ]
  },
  {
   "cell_type": "markdown",
   "metadata": {},
   "source": [
    "First, we need to define the contact matrix for the population of interest.\n",
    "We can use the Polymod contact data that were collected by [Mossong et al. 2008](https://journals.plos.org/plosmedicine/article?id=10.1371/journal.pmed.0050074).\n",
    "\n",
    "The data is easily accessible in different formats.\n",
    "The most convenient way to get a Polymod contact matrix is thorugh the R package [socialmixr](https://cran.r-project.org/web/packages/socialmixr/vignettes/socialmixr.html) developed by [Sebastian Funk](https://www.lshtm.ac.uk/aboutus/people/funk.sebastian) (sometimes R is useful! :) ).\n",
    "\n",
    "I have used the following R command to generate the contact matrix of Italy, with 9 age brackets\n",
    "\n",
    "```R\n",
    "contact_matrix(polymod, countries = \"Italy\", age.limits = c(0, 10, 20, 30, 40, 50, 60, 70, 80, 90), symmetric = TRUE, per.capita = TRUE)\n",
    "```\n",
    "\n",
    "and saved the result into the file ```matrix_Italy.csv```\n",
    "\n"
   ]
  },
  {
   "cell_type": "code",
   "execution_count": null,
   "metadata": {},
   "outputs": [],
   "source": [
    "#read the contact matrix\n",
    "M_df = pd.read_csv('./../datasets/matrix_Italy.csv').drop('Unnamed: 0', axis = 1)\n",
    "\n",
    "plt.matshow(M_df)\n",
    "plt.xlabel('age class contact')\n",
    "plt.ylabel('age class participant')"
   ]
  },
  {
   "cell_type": "code",
   "execution_count": null,
   "metadata": {},
   "outputs": [],
   "source": [
    "def init_comp0(pop, key_seed, seeds):    \n",
    "    S0 = {}\n",
    "    E0 = {}\n",
    "    I0 = {}\n",
    "    R0 = {}\n",
    "    \n",
    "    for i,key in enumerate(pop):        \n",
    "            \n",
    "        S0.setdefault(key,{})\n",
    "        E0.setdefault(key,{})\n",
    "        I0.setdefault(key,{})\n",
    "        R0.setdefault(key,{})\n",
    "        \n",
    "        if key == key_seed:\n",
    "            Ii = seeds\n",
    "        else:\n",
    "            Ii = 0\n",
    "\n",
    "   \n",
    "        S0[key][0]= pop[key] - Ii\n",
    "        E0[key][0]= 0\n",
    "        I0[key][0]= Ii\n",
    "        R0[key][0]=0\n",
    "    \n",
    "    return S0, E0, I0, R0"
   ]
  },
  {
   "cell_type": "code",
   "execution_count": null,
   "metadata": {},
   "outputs": [],
   "source": [
    "def run_epi(C0, pop, M,  beta_val:float, mu_val:float, eps_val:float, stop:int):\n",
    "    '''\n",
    "    C0:  initilaization for the compartmens\n",
    "         list of dict -> C[key][0] = C0_val\n",
    "    pop: population vecotr\n",
    "         dict {key: pop_key}\n",
    "         \n",
    "    M:   contact matrix\n",
    "         dict {key:{key1:c_val, key2:c_val}}\n",
    "    \n",
    "    beta_val: infection probability \n",
    "    mu_val:   recovery rate (1/d , d:generation time)\n",
    "    eps_val:  probability to become infectious\n",
    "    \n",
    "    stop:   number of timesteps to simulate\n",
    "    '''\n",
    "    #. set initial compartments\n",
    "    #  compartment = [var1,var2][time]\n",
    "    S,E,I,R = C0\n",
    "    \n",
    "    \n",
    "    # . controlli\n",
    "    keys = pop.keys()\n",
    "    keys1 = M.keys()\n",
    "    \n",
    "    if keys!= keys1:\n",
    "        print('Population vector and Contact matrix must have same keys!')\n",
    "\n",
    "    # . running the epidemic\n",
    "    for t in range(1,stop):\n",
    "        print('t_{} '.format(t), end = '\\r')        \n",
    "        \n",
    "        for m_key in keys:\n",
    "            \n",
    "            C_key = M[m_key]\n",
    "            cc = []\n",
    "            for kc in C_key:\n",
    "                cc.append(C_key[kc]*(I[kc][t-1]/pop[kc]))\n",
    "                #print(t, ':', I[kc][t-1])\n",
    "\n",
    "            lambda_val = beta_val*sum(cc)\n",
    "            \n",
    "\n",
    "            new_E = np.random.binomial(S[m_key][t-1] ,1.-np.exp(-lambda_val))\n",
    "            new_I = np.random.binomial(E[m_key][t-1] , eps_val)\n",
    "            new_R = np.random.binomial(I[m_key][t-1] , mu_val)\n",
    "                \n",
    "                \n",
    "            S[m_key][t] =  S[m_key][t-1] -  new_E\n",
    "            E[m_key][t] =  E[m_key][t-1] +  new_E -  new_I\n",
    "            \n",
    "            I[m_key][t] =  I[m_key][t-1] +  new_I -  new_R\n",
    "            R[m_key][t] =  R[m_key][t-1] +  new_R\n",
    "        \n",
    "        totI = sum([I[key][t] for key in keys])\n",
    "        \n",
    "        if (t >300) and (totI < 1):\n",
    "            break\n",
    "                 \n",
    "    return S,E, I,R, t"
   ]
  },
  {
   "cell_type": "code",
   "execution_count": null,
   "metadata": {},
   "outputs": [],
   "source": [
    "# re-arranging matrix as dictionary\n",
    "M = {}\n",
    "for i, m in enumerate(np.array(M_df)):\n",
    "    M[i] = {i:mj for i,mj in enumerate(m)}"
   ]
  },
  {
   "cell_type": "markdown",
   "metadata": {},
   "source": [
    "The R package [socialmixr](https://cran.r-project.org/web/packages/socialmixr/vignettes/socialmixr.html) \n",
    "also provides access to the demographics of each country."
   ]
  },
  {
   "cell_type": "code",
   "execution_count": null,
   "metadata": {},
   "outputs": [],
   "source": [
    "# - population distribution by age in Italy\n",
    "pop = {0: 5471539,\n",
    "    1: 5732722,\n",
    "    2: 6955502, \n",
    "    3: 9350120,\n",
    "    4: 8838414, \n",
    "    5: 7705158, \n",
    "    6: 6584286,\n",
    "    7: 5238248,\n",
    "    8: 2932492,\n",
    "    }"
   ]
  },
  {
   "cell_type": "code",
   "execution_count": null,
   "metadata": {},
   "outputs": [],
   "source": [
    "# initializing compartments at t=0\n",
    "C0  = init_comp0(pop, np.random.randint(9), 10)\n",
    "\n",
    "# initializing epi parameters\n",
    "def get_beta(M, R0, mu_val):\n",
    "    \n",
    "    eigvals, eigvecs = la.eig(M)\n",
    "    leading=eigvals.real[0]\n",
    "    \n",
    "    beta_val=mu_val*R0/(leading)\n",
    "    return beta_val\n",
    "\n",
    "r0 = 3\n",
    "mu_val = 1/4\n",
    "eps_val = 1/2.5\n",
    "\n",
    "beta_val = get_beta(M_df.values, r0, mu_val)\n",
    "\n",
    "stop = 200"
   ]
  },
  {
   "cell_type": "code",
   "execution_count": null,
   "metadata": {},
   "outputs": [],
   "source": [
    "S,E,I,R,t = run_epi(C0,pop,M,  beta_val, mu_val, eps_val, stop)"
   ]
  },
  {
   "cell_type": "code",
   "execution_count": null,
   "metadata": {},
   "outputs": [],
   "source": [
    "#Epi dynamic plots\n",
    "\n",
    "fig, axs = plt.subplots(2,4 , figsize =(11, 5))#,  sharex='row', sharey='row')\n",
    "\n",
    "r = 0\n",
    "for key in S:\n",
    "    axs[r, 0].plot(S[key].values())\n",
    "    axs[r, 1].plot(E[key].values())\n",
    "    axs[r, 2].plot(I[key].values())\n",
    "    axs[r, 3].plot(R[key].values(), label = key)\n",
    "\n",
    "for c,title in enumerate(['Susceptible', 'Exposed', 'Infected', 'Recovered']):\n",
    "    axs[r,c].set_title(title)\n",
    "\n",
    "axs[r, 3].legend(ncol = 2, title = 'age group')\n",
    "\n",
    "\n",
    "S_tot = pd.DataFrame(S).sum(axis = 1)\n",
    "E_tot = pd.DataFrame(E).sum(axis = 1)\n",
    "I_tot = pd.DataFrame(I).sum(axis = 1)\n",
    "R_tot = pd.DataFrame(R).sum(axis = 1)\n",
    "\n",
    "\n",
    "r = 1\n",
    "axs[r, 0].plot(S_tot)\n",
    "axs[r, 1].plot(E_tot)\n",
    "axs[r, 2].plot(I_tot)\n",
    "axs[r, 3].plot(R_tot, label = 'total')\n",
    "axs[r, 3].legend(ncol = 2)\n",
    "\n",
    "plt.tight_layout()"
   ]
  },
  {
   "cell_type": "code",
   "execution_count": null,
   "metadata": {},
   "outputs": [],
   "source": []
  }
 ],
 "metadata": {
  "kernelspec": {
   "display_name": "Python 3 (ipykernel)",
   "language": "python",
   "name": "python3"
  },
  "language_info": {
   "codemirror_mode": {
    "name": "ipython",
    "version": 3
   },
   "file_extension": ".py",
   "mimetype": "text/x-python",
   "name": "python",
   "nbconvert_exporter": "python",
   "pygments_lexer": "ipython3",
   "version": "3.11.3"
  },
  "toc": {
   "base_numbering": 1,
   "nav_menu": {},
   "number_sections": true,
   "sideBar": true,
   "skip_h1_title": false,
   "title_cell": "Table of Contents",
   "title_sidebar": "Contents",
   "toc_cell": false,
   "toc_position": {},
   "toc_section_display": true,
   "toc_window_display": false
  }
 },
 "nbformat": 4,
 "nbformat_minor": 4
}
