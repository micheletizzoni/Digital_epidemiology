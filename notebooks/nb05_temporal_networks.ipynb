{
 "cells": [
  {
   "cell_type": "markdown",
   "metadata": {},
   "source": [
    "# Digital epidemiology\n",
    "### University of Trento\n",
    "### AA 2023/2024\n",
    "\n",
    "Author: Michele Tizzoni\n",
    "\n",
    "---\n",
    "\n",
    "## Notebook 5\n",
    "\n",
    "### Epidemics on temporal networks "
   ]
  },
  {
   "cell_type": "markdown",
   "metadata": {},
   "source": [
    "**The temporal dynamics of networks affect dynamical processes defined one them**"
   ]
  },
  {
   "cell_type": "markdown",
   "metadata": {},
   "source": [
    "In 2001, Liljeros and collaborators found that the network of human sexual contacts is \"scale-free\" concluding that STI can be hard to eradicate because of such property. \n",
    "\n",
    "See: https://www.nature.com/nature/journal/v411/n6840/full/411907a0.html"
   ]
  },
  {
   "cell_type": "markdown",
   "metadata": {},
   "source": [
    "However, their conclusions were only partially true because the network of human sexual contacts is a *dynamical network* and temporal fluctuations are very important when considering a dynamical processes that take place on top of it."
   ]
  },
  {
   "cell_type": "markdown",
   "metadata": {},
   "source": [
    "In 2011, Rocha and collaborators published a temporal dataset of sexual contacts in Brazil: http://journals.plos.org/ploscompbiol/article?id=10.1371/journal.pcbi.1001109.\n",
    "We use this dataset to simulate an epidemic process (SI) and compare results between the static aggregated network and the dynamic network."
   ]
  },
  {
   "cell_type": "code",
   "execution_count": 8,
   "metadata": {},
   "outputs": [],
   "source": [
    "import networkx as nx\n",
    "from collections import defaultdict"
   ]
  },
  {
   "cell_type": "code",
   "execution_count": 9,
   "metadata": {},
   "outputs": [],
   "source": [
    "import matplotlib.pyplot as plt"
   ]
  },
  {
   "cell_type": "code",
   "execution_count": 10,
   "metadata": {},
   "outputs": [],
   "source": [
    "%matplotlib inline"
   ]
  },
  {
   "cell_type": "code",
   "execution_count": 11,
   "metadata": {},
   "outputs": [
    {
     "name": "stdout",
     "output_type": "stream",
     "text": [
      "/Users/micheletizzoni/.tacoma/web\r\n"
     ]
    }
   ],
   "source": [
    "!pwd"
   ]
  },
  {
   "cell_type": "code",
   "execution_count": 18,
   "metadata": {},
   "outputs": [],
   "source": [
    "filepath='/Users/micheletizzoni/Documents/GitHub/Digital_epidemiology/datasets/Dataset_sexual_network.csv'"
   ]
  },
  {
   "cell_type": "code",
   "execution_count": 19,
   "metadata": {},
   "outputs": [],
   "source": [
    "edgelist = defaultdict(list)"
   ]
  },
  {
   "cell_type": "code",
   "execution_count": 20,
   "metadata": {},
   "outputs": [],
   "source": [
    "finput=open(filepath,'r')\n",
    "for line in finput.readlines():\n",
    "    \n",
    "    if line[0]!='#':#not a comment\n",
    "        s=line.strip().split(';')\n",
    "        \n",
    "        day=int(s[2])\n",
    "        edge=(int(s[0]), int(s[1]))\n",
    "                \n",
    "        edgelist[day].append(edge)\n",
    "        \n",
    "finput.close()"
   ]
  },
  {
   "cell_type": "code",
   "execution_count": 21,
   "metadata": {},
   "outputs": [
    {
     "data": {
      "text/plain": [
       "1915"
      ]
     },
     "execution_count": 21,
     "metadata": {},
     "output_type": "execute_result"
    }
   ],
   "source": [
    "len(edgelist)"
   ]
  },
  {
   "cell_type": "markdown",
   "metadata": {},
   "source": [
    "We first create the aggregated network "
   ]
  },
  {
   "cell_type": "code",
   "execution_count": 22,
   "metadata": {},
   "outputs": [],
   "source": [
    "G_agg=nx.Graph()\n",
    "G_agg.disease_status={}"
   ]
  },
  {
   "cell_type": "code",
   "execution_count": 23,
   "metadata": {},
   "outputs": [],
   "source": [
    "daystart = 800#we skip the transient\n",
    "dayend = 1800"
   ]
  },
  {
   "cell_type": "code",
   "execution_count": 24,
   "metadata": {},
   "outputs": [
    {
     "name": "stdout",
     "output_type": "stream",
     "text": [
      "The aggregated network has 11306 nodes\n",
      "The aggregated network has 23345 links\n"
     ]
    }
   ],
   "source": [
    "for d in edgelist:\n",
    "    if d>=daystart and d<=dayend:\n",
    "        links=edgelist[d]\n",
    "        G_agg.add_edges_from(links)#we add the link to the graph\n",
    "\n",
    "print(\"The aggregated network has\", len(G_agg.nodes()),\"nodes\")\n",
    "print(\"The aggregated network has\", len(G_agg.edges()),\"links\")"
   ]
  },
  {
   "cell_type": "markdown",
   "metadata": {},
   "source": [
    "The network is not connected"
   ]
  },
  {
   "cell_type": "code",
   "execution_count": 25,
   "metadata": {},
   "outputs": [
    {
     "data": {
      "text/plain": [
       "False"
      ]
     },
     "execution_count": 25,
     "metadata": {},
     "output_type": "execute_result"
    }
   ],
   "source": [
    "nx.is_connected(G_agg)"
   ]
  },
  {
   "cell_type": "code",
   "execution_count": 26,
   "metadata": {},
   "outputs": [
    {
     "data": {
      "text/plain": [
       "337"
      ]
     },
     "execution_count": 26,
     "metadata": {},
     "output_type": "execute_result"
    }
   ],
   "source": [
    "nx.number_connected_components(G_agg)"
   ]
  },
  {
   "cell_type": "code",
   "execution_count": 27,
   "metadata": {},
   "outputs": [
    {
     "name": "stdout",
     "output_type": "stream",
     "text": [
      "10566\n",
      "3\n",
      "2\n",
      "2\n",
      "2\n",
      "2\n",
      "2\n",
      "2\n",
      "2\n",
      "3\n",
      "2\n",
      "4\n",
      "2\n",
      "2\n",
      "3\n",
      "2\n",
      "3\n",
      "2\n",
      "3\n",
      "2\n",
      "3\n",
      "2\n",
      "2\n",
      "2\n",
      "2\n",
      "2\n",
      "2\n",
      "2\n",
      "2\n",
      "3\n",
      "2\n",
      "2\n",
      "2\n",
      "2\n",
      "2\n",
      "2\n",
      "2\n",
      "2\n",
      "2\n",
      "2\n",
      "2\n",
      "2\n",
      "2\n",
      "3\n",
      "4\n",
      "2\n",
      "2\n",
      "6\n",
      "2\n",
      "4\n",
      "2\n",
      "4\n",
      "2\n",
      "3\n",
      "2\n",
      "2\n",
      "2\n",
      "2\n",
      "2\n",
      "2\n",
      "2\n",
      "2\n",
      "2\n",
      "2\n",
      "2\n",
      "2\n",
      "2\n",
      "2\n",
      "2\n",
      "2\n",
      "2\n",
      "2\n",
      "2\n",
      "2\n",
      "2\n",
      "2\n",
      "2\n",
      "2\n",
      "2\n",
      "2\n",
      "2\n",
      "2\n",
      "2\n",
      "3\n",
      "2\n",
      "2\n",
      "2\n",
      "2\n",
      "2\n",
      "2\n",
      "2\n",
      "3\n",
      "2\n",
      "2\n",
      "2\n",
      "2\n",
      "3\n",
      "2\n",
      "2\n",
      "2\n",
      "2\n",
      "2\n",
      "2\n",
      "2\n",
      "2\n",
      "2\n",
      "2\n",
      "2\n",
      "2\n",
      "2\n",
      "2\n",
      "2\n",
      "2\n",
      "2\n",
      "2\n",
      "2\n",
      "2\n",
      "2\n",
      "2\n",
      "2\n",
      "2\n",
      "2\n",
      "2\n",
      "2\n",
      "2\n",
      "2\n",
      "2\n",
      "3\n",
      "2\n",
      "2\n",
      "2\n",
      "2\n",
      "2\n",
      "2\n",
      "2\n",
      "2\n",
      "2\n",
      "2\n",
      "2\n",
      "2\n",
      "2\n",
      "2\n",
      "2\n",
      "2\n",
      "2\n",
      "2\n",
      "2\n",
      "3\n",
      "2\n",
      "2\n",
      "2\n",
      "3\n",
      "2\n",
      "2\n",
      "2\n",
      "2\n",
      "2\n",
      "3\n",
      "2\n",
      "2\n",
      "2\n",
      "3\n",
      "2\n",
      "2\n",
      "2\n",
      "2\n",
      "2\n",
      "2\n",
      "2\n",
      "2\n",
      "2\n",
      "2\n",
      "2\n",
      "2\n",
      "2\n",
      "2\n",
      "2\n",
      "5\n",
      "2\n",
      "2\n",
      "3\n",
      "2\n",
      "2\n",
      "2\n",
      "2\n",
      "2\n",
      "3\n",
      "2\n",
      "2\n",
      "2\n",
      "8\n",
      "2\n",
      "5\n",
      "2\n",
      "3\n",
      "3\n",
      "2\n",
      "2\n",
      "2\n",
      "2\n",
      "4\n",
      "2\n",
      "2\n",
      "2\n",
      "2\n",
      "2\n",
      "3\n",
      "2\n",
      "2\n",
      "2\n",
      "2\n",
      "2\n",
      "2\n",
      "2\n",
      "2\n",
      "2\n",
      "2\n",
      "2\n",
      "3\n",
      "2\n",
      "2\n",
      "3\n",
      "2\n",
      "2\n",
      "2\n",
      "2\n",
      "2\n",
      "2\n",
      "2\n",
      "2\n",
      "2\n",
      "5\n",
      "3\n",
      "2\n",
      "2\n",
      "3\n",
      "2\n",
      "2\n",
      "2\n",
      "2\n",
      "2\n",
      "2\n",
      "2\n",
      "2\n",
      "2\n",
      "3\n",
      "2\n",
      "2\n",
      "2\n",
      "2\n",
      "2\n",
      "2\n",
      "3\n",
      "2\n",
      "2\n",
      "2\n",
      "2\n",
      "2\n",
      "2\n",
      "2\n",
      "2\n",
      "2\n",
      "3\n",
      "2\n",
      "3\n",
      "2\n",
      "2\n",
      "2\n",
      "2\n",
      "2\n",
      "2\n",
      "2\n",
      "2\n",
      "2\n",
      "2\n",
      "3\n",
      "2\n",
      "2\n",
      "2\n",
      "2\n",
      "2\n",
      "2\n",
      "2\n",
      "2\n",
      "2\n",
      "2\n",
      "3\n",
      "2\n",
      "2\n",
      "2\n",
      "2\n",
      "2\n",
      "2\n",
      "2\n",
      "2\n",
      "4\n",
      "2\n",
      "2\n",
      "2\n",
      "2\n",
      "2\n",
      "4\n",
      "2\n",
      "2\n",
      "2\n",
      "2\n",
      "2\n",
      "3\n",
      "2\n",
      "2\n",
      "2\n",
      "2\n",
      "2\n",
      "2\n",
      "3\n",
      "2\n",
      "2\n",
      "2\n",
      "2\n",
      "2\n",
      "2\n",
      "3\n",
      "2\n",
      "2\n",
      "2\n",
      "2\n",
      "2\n",
      "2\n",
      "2\n",
      "2\n",
      "2\n",
      "2\n",
      "2\n",
      "2\n",
      "2\n",
      "2\n",
      "2\n"
     ]
    }
   ],
   "source": [
    "for i in nx.connected_components(G_agg):\n",
    "    print(len(i))"
   ]
  },
  {
   "cell_type": "markdown",
   "metadata": {},
   "source": [
    "---\n",
    "## Simulations on the time-aggregated graph"
   ]
  },
  {
   "cell_type": "code",
   "execution_count": 28,
   "metadata": {},
   "outputs": [
    {
     "name": "stdout",
     "output_type": "stream",
     "text": [
      "12\n",
      "The degree of the seed is 24\n"
     ]
    }
   ],
   "source": [
    "#let's choose a random seed\n",
    "import random\n",
    "\n",
    "seed_links=edgelist[daystart]\n",
    "print(len(seed_links))\n",
    "\n",
    "random.shuffle(seed_links)\n",
    "seed=seed_links[0][0]\n",
    "\n",
    "print(\"The degree of the seed is\", G_agg.degree(seed))"
   ]
  },
  {
   "cell_type": "code",
   "execution_count": 29,
   "metadata": {},
   "outputs": [],
   "source": [
    "infected_nodes = []\n",
    "infected_nodes.append(seed)\n",
    "\n",
    "for n in G_agg.nodes():\n",
    "    if n in infected_nodes:\n",
    "        G_agg.disease_status[n] = 1\n",
    "        #infected\n",
    "    else:\n",
    "        G_agg.disease_status[n] = 0\n",
    "        #susceptible"
   ]
  },
  {
   "cell_type": "code",
   "execution_count": 30,
   "metadata": {},
   "outputs": [
    {
     "name": "stdout",
     "output_type": "stream",
     "text": [
      "The final size of the epidemic is 0.9345480275959668\n"
     ]
    }
   ],
   "source": [
    "Itime_agg = []\n",
    "\n",
    "#there are 1000 days of network activity but the network does not change!\n",
    "\n",
    "for t in range(0,1000):\n",
    "    \n",
    "    for i in infected_nodes:\n",
    "        for j in G_agg.neighbors(i):\n",
    "            if G_agg.disease_status[j] == 0: \n",
    "                G_agg.disease_status[j] = 1 #the probability of infection is 1!!\n",
    "                \n",
    "    #we cycle over the infected nodes\n",
    "    infected_nodes=[]\n",
    "    for n in G_agg.nodes():\n",
    "        if G_agg.disease_status[n]==1:\n",
    "            infected_nodes.append(n)\n",
    "             \n",
    "    Itime_agg.append(len(infected_nodes))\n",
    "\n",
    "print(\"The final size of the epidemic is\", float(len(infected_nodes))/len(G_agg.nodes()))"
   ]
  },
  {
   "cell_type": "markdown",
   "metadata": {},
   "source": [
    "Let's visualize the time evolution of the infected nodes"
   ]
  },
  {
   "cell_type": "code",
   "execution_count": 31,
   "metadata": {},
   "outputs": [
    {
     "data": {
      "text/plain": [
       "(0.0, 20.0, -1.0, 10600.0)"
      ]
     },
     "execution_count": 31,
     "metadata": {},
     "output_type": "execute_result"
    },
    {
     "data": {
      "image/png": "[encoded data removed]",
      "text/plain": [
       "<Figure size 1000x700 with 1 Axes>"
      ]
     },
     "metadata": {},
     "output_type": "display_data"
    }
   ],
   "source": [
    "plt.figure(figsize=(10,7))\n",
    "plt.xlabel('Time', fontsize=18)\n",
    "plt.ylabel('Infected individuals', fontsize=18)\n",
    "plt.xticks(fontsize=14)\n",
    "plt.yticks(fontsize=14)\n",
    "plt.plot(range(0,len(Itime_agg)),Itime_agg)\n",
    "plt.axis([0,20,-1,10600])"
   ]
  },
  {
   "cell_type": "markdown",
   "metadata": {},
   "source": [
    "---\n",
    "## Simulations on the full dynamic network"
   ]
  },
  {
   "cell_type": "code",
   "execution_count": 32,
   "metadata": {},
   "outputs": [],
   "source": [
    "G_dyn = nx.Graph()\n",
    "G_dyn.disease_status = {}"
   ]
  },
  {
   "cell_type": "code",
   "execution_count": 27,
   "metadata": {},
   "outputs": [],
   "source": [
    "seed_links = edgelist[daystart]\n",
    "random.shuffle(seed_links)\n",
    "seed = seed_links[0][0]"
   ]
  },
  {
   "cell_type": "code",
   "execution_count": 33,
   "metadata": {},
   "outputs": [
    {
     "data": {
      "text/plain": [
       "1922"
      ]
     },
     "execution_count": 33,
     "metadata": {},
     "output_type": "execute_result"
    }
   ],
   "source": [
    "seed"
   ]
  },
  {
   "cell_type": "code",
   "execution_count": 34,
   "metadata": {},
   "outputs": [],
   "source": [
    "infected_nodes = []\n",
    "infected_nodes.append(seed)\n",
    "\n",
    "G_dyn.add_edges_from(seed_links)  # we consider only the links that are active on day 0\n",
    "\n",
    "for n in G_dyn.nodes():\n",
    "    if n in infected_nodes:\n",
    "        G_dyn.disease_status[n] = 1\n",
    "        # infected\n",
    "    else:\n",
    "        G_dyn.disease_status[n] = 0\n",
    "        # susceptible"
   ]
  },
  {
   "cell_type": "code",
   "execution_count": 35,
   "metadata": {},
   "outputs": [
    {
     "name": "stdout",
     "output_type": "stream",
     "text": [
      "The temporal network has 22 nodes on day 800\n",
      "The temporal network has 12 edges on day 800\n",
      "The degree of the seed is 2\n",
      "The final size of the epidemic is 0.7123651158676809\n"
     ]
    }
   ],
   "source": [
    "Itime_dyn = []\n",
    "\n",
    "for t in range(daystart, dayend + 1):\n",
    "\n",
    "    links = edgelist[t]  # these are the links active on day t\n",
    "\n",
    "    if t == daystart:\n",
    "        print(\"The temporal network has\", len(G_dyn.nodes()), \"nodes on day\", daystart)\n",
    "        print(\"The temporal network has\", len(G_dyn.edges()), \"edges on day\", daystart)\n",
    "        print(\"The degree of the seed is\", G_dyn.degree(seed))\n",
    "    else:\n",
    "        G_dyn.add_edges_from(links)\n",
    "        for e in links:\n",
    "            if e[0] not in G_dyn.disease_status:\n",
    "                G_dyn.disease_status[e[0]] = 0\n",
    "            if e[1] not in G_dyn.disease_status:\n",
    "                G_dyn.disease_status[e[1]] = 0\n",
    "\n",
    "    # transmission of the infection\n",
    "    for i in infected_nodes:\n",
    "        for j in G_dyn.neighbors(i):\n",
    "            if G_dyn.disease_status[j] == 0:\n",
    "                G_dyn.disease_status[j] = 1\n",
    "\n",
    "    # we update the status of the infected nodes\n",
    "    infected_nodes = []\n",
    "    for n in G_dyn.nodes():\n",
    "        if G_dyn.disease_status[n] == 1:\n",
    "            infected_nodes.append(n)\n",
    "\n",
    "    Itime_dyn.append(len(infected_nodes))\n",
    "\n",
    "    # remove the active links of that day\n",
    "    G_dyn.remove_edges_from(links)\n",
    "\n",
    "#At the end of the epidemic we print the final attack rate of the epidemic\n",
    "print(\n",
    "    \"The final size of the epidemic is\", float(len(infected_nodes)) / len(G_dyn.nodes())\n",
    ")"
   ]
  },
  {
   "cell_type": "code",
   "execution_count": 36,
   "metadata": {},
   "outputs": [
    {
     "data": {
      "text/plain": [
       "<matplotlib.legend.Legend at 0x163aa5950>"
      ]
     },
     "execution_count": 36,
     "metadata": {},
     "output_type": "execute_result"
    },
    {
     "data": {
      "image/png": "[encoded data removed]",
      "text/plain": [
       "<Figure size 1000x700 with 1 Axes>"
      ]
     },
     "metadata": {},
     "output_type": "display_data"
    }
   ],
   "source": [
    "plt.figure(figsize=(10,7))\n",
    "plt.xticks(fontsize=14)\n",
    "plt.yticks(fontsize=14)\n",
    "plt.xlabel('time', fontsize=18)\n",
    "plt.ylabel('infected individuals', fontsize=18)\n",
    "plt.plot(range(0,len(Itime_agg)),Itime_agg, label='static')\n",
    "plt.plot(range(0,len(Itime_dyn)),Itime_dyn, label='dynamic')\n",
    "plt.legend()\n",
    "#plt.axis([0,365,-1,10600])"
   ]
  },
  {
   "cell_type": "markdown",
   "metadata": {},
   "source": [
    "---\n",
    "\n",
    "# Tacoma library\n",
    "\n",
    "We use the library Tacoma developed by Ben Meier. \n",
    "\n",
    "Documentation available here: http://rocs.hu-berlin.de/~tacoma/\n"
   ]
  },
  {
   "cell_type": "code",
   "execution_count": 1,
   "metadata": {},
   "outputs": [],
   "source": [
    "import tacoma as tc"
   ]
  },
  {
   "cell_type": "code",
   "execution_count": 2,
   "metadata": {},
   "outputs": [],
   "source": [
    "from tacoma.interactive import visualize"
   ]
  },
  {
   "cell_type": "code",
   "execution_count": 3,
   "metadata": {},
   "outputs": [
    {
     "name": "stdout",
     "output_type": "stream",
     "text": [
      "\r",
      "  0% [                                                          ]     0 / 67463\r",
      " 12% [.......                                                   ]  8192 / 67463\r",
      " 24% [..............                                            ] 16384 / 67463\r",
      " 36% [.....................                                     ] 24576 / 67463\r",
      " 48% [............................                              ] 32768 / 67463\r",
      " 60% [...................................                       ] 40960 / 67463\r",
      " 72% [..........................................                ] 49152 / 67463\r",
      " 85% [.................................................         ] 57344 / 67463\r",
      " 97% [........................................................  ] 65536 / 67463\r",
      "100% [..........................................................] 67463 / 67463"
     ]
    }
   ],
   "source": [
    "temporal_network = tc.download_and_convert_sociopatterns_hypertext_2009()"
   ]
  },
  {
   "cell_type": "code",
   "execution_count": null,
   "metadata": {},
   "outputs": [
    {
     "name": "stdout",
     "output_type": "stream",
     "text": [
      "changing directory to /Users/micheletizzoni/.tacoma/web\n",
      "starting server here ... /Users/micheletizzoni/.tacoma/web\n",
      "preparing network \n"
     ]
    },
    {
     "name": "stderr",
     "output_type": "stream",
     "text": [
      "127.0.0.1 - - [15/May/2024 08:11:28] \"GET /?data=tmp_18f7ae08f92 HTTP/1.1\" 200 -\n",
      "127.0.0.1 - - [15/May/2024 08:11:28] \"GET /widgets_js/widgets_white_bg.css HTTP/1.1\" 200 -\n",
      "127.0.0.1 - - [15/May/2024 08:11:28] \"GET /css/main.css HTTP/1.1\" 200 -\n",
      "127.0.0.1 - - [15/May/2024 08:11:28] \"GET /img/new_logo_small_grey_rotated.png HTTP/1.1\" 200 -\n",
      "127.0.0.1 - - [15/May/2024 08:11:28] \"GET /d3.v4/d3.v4.min.js HTTP/1.1\" 200 -\n",
      "127.0.0.1 - - [15/May/2024 08:11:28] \"GET /custom_js/fisheye.js HTTP/1.1\" 200 -\n",
      "127.0.0.1 - - [15/May/2024 08:11:28] \"GET /custom_js/temporalNetworkView.js HTTP/1.1\" 200 -\n",
      "127.0.0.1 - - [15/May/2024 08:11:28] \"GET /custom_js/temporalEdgesView.js HTTP/1.1\" 200 -\n",
      "127.0.0.1 - - [15/May/2024 08:11:28] \"GET /custom_js/temporalNetworkFigure.js HTTP/1.1\" 200 -\n",
      "127.0.0.1 - - [15/May/2024 08:11:28] \"GET /widgets_js/widget.v3.4.js HTTP/1.1\" 200 -\n",
      "127.0.0.1 - - [15/May/2024 08:11:28] \"GET /custom_js/temporalNetworkControlWidget.js HTTP/1.1\" 200 -\n",
      "127.0.0.1 - - [15/May/2024 08:11:28] \"GET /tmp_18f7ae08f92_config.json HTTP/1.1\" 200 -\n",
      "127.0.0.1 - - [15/May/2024 08:11:28] \"GET /tmp_18f7ae08f92/tmp_18f7ae08f92_0.taco HTTP/1.1\" 200 -\n",
      "127.0.0.1 - - [15/May/2024 08:11:28] \"GET /tmp_18f7ae08f92/tmp_18f7ae08f92_0.json HTTP/1.1\" 200 -\n",
      "127.0.0.1 - - [15/May/2024 08:11:28] code 404, message File not found\n",
      "127.0.0.1 - - [15/May/2024 08:11:28] \"GET /favicon.ico HTTP/1.1\" 404 -\n"
     ]
    },
    {
     "name": "stdout",
     "output_type": "stream",
     "text": [
      "stopping server ...\n",
      "was asked to stop the server\n",
      "deleted all files\n"
     ]
    }
   ],
   "source": [
    "visualize(temporal_network, frame_dt = 10)"
   ]
  },
  {
   "cell_type": "code",
   "execution_count": 4,
   "metadata": {},
   "outputs": [],
   "source": [
    "from tacoma.drawing import edge_activity_plot"
   ]
  },
  {
   "cell_type": "code",
   "execution_count": 5,
   "metadata": {},
   "outputs": [
    {
     "data": {
      "text/plain": [
       "(<Figure size 640x480 with 1 Axes>, <Axes: xlabel='time', ylabel='edge id'>)"
      ]
     },
     "execution_count": 5,
     "metadata": {},
     "output_type": "execute_result"
    },
    {
     "data": {
      "image/png": "[encoded data removed]",
      "text/plain": [
       "<Figure size 640x480 with 1 Axes>"
      ]
     },
     "metadata": {},
     "output_type": "display_data"
    }
   ],
   "source": [
    "edge_activity_plot(temporal_network)"
   ]
  },
  {
   "cell_type": "code",
   "execution_count": 6,
   "metadata": {},
   "outputs": [],
   "source": [
    "temporal_network = tc.edge_changes()\n",
    "temporal_network.N = 10\n",
    "temporal_network.edges_initial = [ (0,1), (2,3), (1,7), (3,5), (1,9), (7,2) ]\n",
    "temporal_network.t0 = 0.0\n",
    "temporal_network.t = [ 0.8, 2.4 ]\n",
    "temporal_network.tmax = 3.1\n",
    "temporal_network.edges_in = [ \n",
    "                              [ (0, 5), (3, 6) ], \n",
    "                              [ (3, 7), (4, 9), (7, 8) ],\n",
    "                            ]\n",
    "temporal_network.edges_out = [ \n",
    "                                [ (0, 1) ],\n",
    "                                [ (2, 3), (3, 6) ],\n",
    "                             ]"
   ]
  },
  {
   "cell_type": "code",
   "execution_count": null,
   "metadata": {},
   "outputs": [
    {
     "name": "stdout",
     "output_type": "stream",
     "text": [
      "changing directory to /Users/micheletizzoni/.tacoma/web\n",
      "starting server here ... /Users/micheletizzoni/.tacoma/web\n",
      "preparing network \n"
     ]
    },
    {
     "name": "stderr",
     "output_type": "stream",
     "text": [
      "127.0.0.1 - - [15/May/2024 08:12:42] \"GET /?data=tmp_18f7ae1af68 HTTP/1.1\" 200 -\n",
      "127.0.0.1 - - [15/May/2024 08:12:42] \"GET /tmp_18f7ae1af68_config.json HTTP/1.1\" 200 -\n",
      "127.0.0.1 - - [15/May/2024 08:12:42] \"GET /tmp_18f7ae1af68/tmp_18f7ae1af68_0.taco HTTP/1.1\" 200 -\n",
      "127.0.0.1 - - [15/May/2024 08:12:42] \"GET /tmp_18f7ae1af68/tmp_18f7ae1af68_0.json HTTP/1.1\" 200 -\n"
     ]
    },
    {
     "name": "stdout",
     "output_type": "stream",
     "text": [
      "stopping server ...\n",
      "was asked to stop the server\n",
      "deleted all files\n"
     ]
    }
   ],
   "source": [
    "visualize(temporal_network, frame_dt = 0.05)"
   ]
  },
  {
   "cell_type": "code",
   "execution_count": null,
   "metadata": {},
   "outputs": [],
   "source": []
  }
 ],
 "metadata": {
  "kernelspec": {
   "display_name": "Python 3 (ipykernel)",
   "language": "python",
   "name": "python3"
  },
  "language_info": {
   "codemirror_mode": {
    "name": "ipython",
    "version": 3
   },
   "file_extension": ".py",
   "mimetype": "text/x-python",
   "name": "python",
   "nbconvert_exporter": "python",
   "pygments_lexer": "ipython3",
   "version": "3.11.3"
  },
  "toc": {
   "base_numbering": 1,
   "nav_menu": {},
   "number_sections": true,
   "sideBar": true,
   "skip_h1_title": false,
   "title_cell": "Table of Contents",
   "title_sidebar": "Contents",
   "toc_cell": false,
   "toc_position": {},
   "toc_section_display": true,
   "toc_window_display": false
  }
 },
 "nbformat": 4,
 "nbformat_minor": 4
}
